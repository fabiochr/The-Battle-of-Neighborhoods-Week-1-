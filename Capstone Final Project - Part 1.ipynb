{
 "cells": [
  {
   "cell_type": "markdown",
   "metadata": {},
   "source": [
    "# Capstone Project - The Battle of Neighborhoods Part 1\n"
   ]
  },
  {
   "cell_type": "markdown",
   "metadata": {},
   "source": [
    "### Description of the problem"
   ]
  },
  {
   "cell_type": "markdown",
   "metadata": {},
   "source": [
    "I'll use the data scraped from the link Toronto wiki. I'll follow the idea of finding in Toronto, a place to open a new business, and recommend a couple of areas to start the business. \n"
   ]
  },
  {
   "cell_type": "markdown",
   "metadata": {},
   "source": [
    "### Business Problem section"
   ]
  },
  {
   "cell_type": "markdown",
   "metadata": {},
   "source": [
    "Ill try to adopt machine learning tools in order to assist a new businessman to find a neighborhood to start their own business, helping them to make wise and effective choice.\n",
    "\n",
    "Withe the business problem, I will :\n",
    "\n",
    " with the location of choice, what we can do to improve the business revenu? or maybe what kind of business they could start in that area?\n",
    "\n",
    "To solve this business problem, with the cluster from Toronto neighborhood, I'll recomment venues and maybe prices of real state in that area to the investor start their business. \n",
    "I will try to recommend profitable venues according to amenities and facilities surrounding such venues i.e. elementary schools, high schools, hospitals & grocery stores."
   ]
  },
  {
   "cell_type": "markdown",
   "metadata": {},
   "source": [
    "### Data section"
   ]
  },
  {
   "cell_type": "markdown",
   "metadata": {},
   "source": [
    "Data from the Toronto, will be from the site https://en.wikipedia.org/wiki/List_of_postal_codes_of_Canada:_M.(coordinates and Postal codes).\n",
    "\n",
    "Venues will come from foursquare: https://developer.foursquare.com/docs/api/venues/details\n",
    "\n",
    "\n",
    "A good Price Dataset is not easy to find so I will attempt scrap data from a web site https://www.nestpick.com/neighbourhood-price-index-2019/ and find some from others sources in the internet. So I can compare and recommend, also using 4square API to visualization and Dataframe.\n",
    "\n",
    "with those data, I think I will be able to recommend profitable business places."
   ]
  },
  {
   "cell_type": "code",
   "execution_count": null,
   "metadata": {},
   "outputs": [],
   "source": []
  }
 ],
 "metadata": {
  "kernelspec": {
   "display_name": "Python 3",
   "language": "python",
   "name": "python3"
  },
  "language_info": {
   "codemirror_mode": {
    "name": "ipython",
    "version": 3
   },
   "file_extension": ".py",
   "mimetype": "text/x-python",
   "name": "python",
   "nbconvert_exporter": "python",
   "pygments_lexer": "ipython3",
   "version": "3.7.1"
  }
 },
 "nbformat": 4,
 "nbformat_minor": 2
}
